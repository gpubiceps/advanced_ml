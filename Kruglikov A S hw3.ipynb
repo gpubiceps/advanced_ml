{
 "cells": [
  {
   "cell_type": "markdown",
   "id": "acf5e2c8",
   "metadata": {},
   "source": [
    "# Домашнее задание 3\n",
    "\n",
    "**Кругликов А. С.**"
   ]
  },
  {
   "cell_type": "markdown",
   "id": "7a9e088f",
   "metadata": {},
   "source": [
    "### 1 Реализуйте базовый частотный метод по Шерлоку Холмсу:\n",
    "- подсчитайте частоты букв по корпусам (пунктуацию и капитализацию можно просто опустить, а вот пробелы лучше оставить);\n",
    "- возьмите какие-нибудь тестовые тексты (нужно взять по меньшей мере 2-3 предложения, иначе вряд ли сработает), зашифруйте их посредством случайной перестановки символов;\n",
    "- расшифруйте их таким частотным методом."
   ]
  },
  {
   "cell_type": "code",
   "execution_count": 1,
   "id": "8c57e52d",
   "metadata": {},
   "outputs": [],
   "source": [
    "import re\n",
    "from collections import Counter\n",
    "import numpy as np\n",
    "import matplotlib.pyplot as plt\n",
    "\n",
    "np.random.seed(42)"
   ]
  },
  {
   "cell_type": "code",
   "execution_count": 116,
   "id": "e8fefc38",
   "metadata": {},
   "outputs": [],
   "source": [
    "with open('corpora/AnnaKarenina.txt', 'r', encoding='utf-8') as book:\n",
    "    text = book.read().lower()\n",
    "    \n",
    "with open('corpora/WarAndPeace.txt', 'r', encoding='utf-8') as book:\n",
    "    text += book.read().lower()\n",
    "    \n",
    "text = re.sub(r'[^\\w]', ' ', text)\n",
    "text = \" \".join(text.split())"
   ]
  },
  {
   "cell_type": "code",
   "execution_count": 117,
   "id": "9f75dd20",
   "metadata": {},
   "outputs": [
    {
     "data": {
      "text/plain": [
       "[(' ', 397300),\n",
       " ('о', 223691),\n",
       " ('е', 166169),\n",
       " ('а', 162313),\n",
       " ('н', 133258),\n",
       " ('и', 129712),\n",
       " ('т', 115258),\n",
       " ('с', 103252),\n",
       " ('л', 98191),\n",
       " ('в', 91386)]"
      ]
     },
     "execution_count": 117,
     "metadata": {},
     "output_type": "execute_result"
    }
   ],
   "source": [
    "counter_map = Counter(text)\n",
    "global_mapper = counter_map.most_common()\n",
    "global_mapper[:10]"
   ]
  },
  {
   "cell_type": "code",
   "execution_count": 118,
   "id": "b61a2b6d",
   "metadata": {},
   "outputs": [],
   "source": [
    "def encode(text):\n",
    "    chars = set(text)\n",
    "    map_table = {char: chr(np.random.randint(0, 1000)) for char in chars}\n",
    "    return ''.join([map_table[i] for i in text])\n",
    "\n",
    "def decode(text, global_mapper):\n",
    "    temp_counter = Counter(text).most_common()\n",
    "    map_table = {temp_counter[i][0]: global_mapper[i][0] for i in range(len(temp_counter))}\n",
    "    return ''.join([map_table[i] for i in text])\n",
    "\n",
    "def accuracy(true, pred):\n",
    "    return (np.array(list(true)) == np.array(list(pred))).mean()"
   ]
  },
  {
   "cell_type": "code",
   "execution_count": 123,
   "id": "0e8d0ea3",
   "metadata": {},
   "outputs": [
    {
     "data": {
      "text/plain": [
       "' ставшей афоризмом фразой все счастливые семьи похожи друг на друга каждая несчастливая семья несчастлива по своему это книга о вечных ценностях о любви о вере о семье о человеческом достоинстве лев толстой'"
      ]
     },
     "execution_count": 123,
     "metadata": {},
     "output_type": "execute_result"
    }
   ],
   "source": [
    "test_text1 = text[82: 288]\n",
    "test_text2 = text[188: 788]\n",
    "test_text3 = text[886: 2588]\n",
    "test_text1"
   ]
  },
  {
   "cell_type": "code",
   "execution_count": 202,
   "id": "07119583",
   "metadata": {},
   "outputs": [
    {
     "data": {
      "text/plain": [
       "'ˡñǆʍɺæʊ8ˡʍΪ©Ȁˠ<Ȃ©ȂˡΪȀʍ<©8ˡɺñʊˡñƘʍñǆɭˠɺƟʊˡñʊȂ͗ˠˡ(©ĥ©Ϥˠˡ̕ȀʅïˡĨʍˡ̕Ȁʅïʍˡ\\u0381ʍϤ̕ʍǧˡĨʊñƘʍñǆɭˠɺʍǧˡñʊȂ͗ǧˡĨʊñƘʍñǆɭˠɺʍˡ(©ˡñɺ©ʊȂʅˡȭǆ©ˡ\\u0381Ĩˠïʍˡ©ˡɺʊƘĨƟĥˡĭʊĨĨ©ñǆǧĥˡ©ˡɭέʥɺˠˡ©ˡɺʊȀʊˡ©ˡñʊȂ͗ʊˡ©ˡƘʊɭ©ɺʊƘʊñ\\u0381©Ȃˡ̕©ñǆ©ˠĨñǆɺʊˡɭʊɺˡǆ©ɭñǆ©8'"
      ]
     },
     "execution_count": 202,
     "metadata": {},
     "output_type": "execute_result"
    }
   ],
   "source": [
    "test_text_enc1 = encode(test_text1)\n",
    "test_text_enc2 = encode(test_text2)\n",
    "test_text_enc3 = encode(test_text3)\n",
    "test_text_enc1"
   ]
  },
  {
   "cell_type": "code",
   "execution_count": 129,
   "id": "e58dc5f9",
   "metadata": {},
   "outputs": [
    {
     "data": {
      "text/plain": [
       "' атнихеп нзодсчвов зднчоп иае акнатрсиже аевяс йоьошс мдгы лн мдгын бншмну леакнатрсину аевяу леакнатрсин йо аиоевг тто блсын о иеклжь юеллоатуь о рэцис о иеде о аевяе о кероиекеабов моатослатие реи торатоп'"
      ]
     },
     "execution_count": 129,
     "metadata": {},
     "output_type": "execute_result"
    }
   ],
   "source": [
    "test_text_dec1 = decode(test_text_enc1, global_mapper)\n",
    "test_text_dec2 = decode(test_text_enc2, global_mapper)\n",
    "test_text_dec3 = decode(test_text_enc3, global_mapper)\n",
    "test_text_dec1"
   ]
  },
  {
   "cell_type": "code",
   "execution_count": 130,
   "id": "2cf7b1f7",
   "metadata": {},
   "outputs": [
    {
     "name": "stdout",
     "output_type": "stream",
     "text": [
      "chars num: 206, acc: 0.3932038834951456\n",
      "chars num: 600, acc: 0.16\n",
      "chars num: 1702, acc: 0.36427732079905994\n"
     ]
    }
   ],
   "source": [
    "print(f\"chars num: {len(test_text1)}, acc: {accuracy(test_text1, test_text_dec1)}\")\n",
    "print(f\"chars num: {len(test_text2)}, acc: {accuracy(test_text2, test_text_dec2)}\")\n",
    "print(f\"chars num: {len(test_text3)}, acc: {accuracy(test_text3, test_text_dec3)}\")"
   ]
  },
  {
   "cell_type": "code",
   "execution_count": 127,
   "id": "2d00a6d0",
   "metadata": {},
   "outputs": [],
   "source": [
    "text_len = []\n",
    "acc = []\n",
    "for size in range(100, 50000, 100):\n",
    "    temp_text = text[10000: 10000 + size]\n",
    "    temp_text_dec = decode(encode(temp_text), global_mapper)\n",
    "    text_len.append(size)\n",
    "    acc.append(accuracy(temp_text, temp_text_dec))"
   ]
  },
  {
   "cell_type": "code",
   "execution_count": 131,
   "id": "8566ed1c",
   "metadata": {},
   "outputs": [
    {
     "data": {
      "image/png": "[encoded data removed]",
      "text/plain": [
       "<Figure size 432x288 with 1 Axes>"
      ]
     },
     "metadata": {
      "needs_background": "light"
     },
     "output_type": "display_data"
    }
   ],
   "source": [
    "plt.plot(text_len, acc)\n",
    "plt.xlabel('Длина декодированного текста')\n",
    "plt.ylabel('accuracy')\n",
    "plt.show()"
   ]
  },
  {
   "cell_type": "markdown",
   "id": "42451fa9",
   "metadata": {},
   "source": [
    "**Точность метода растет с увеличением количества символов в целевом тексте, но результат неустойчивый и понять полученный текст не получается.**"
   ]
  },
  {
   "cell_type": "markdown",
   "id": "2577fff1",
   "metadata": {},
   "source": [
    "## 2\n",
    "Вряд ли в результате получилась такая уж хорошая расшифровка, разве что если вы брали в качестве тестовых данных целые рассказы. Но и Шерлок Холмс был не так уж прост: после буквы E, которая действительно выделяется частотой, дальше он анализировал уже конкретные слова и пытался угадать, какими они могли бы быть. Я не знаю, как запрограммировать такой интуитивный анализ, так что давайте просто сделаем следующий логический шаг:\n",
    "- подсчитайте частоты биграмм (т.е. пар последовательных букв) по корпусам;\n",
    "- проведите тестирование аналогично п.1, но при помощи биграмм.\n",
    "\n",
    "В качестве естественной метрики качества можно взять долю правильно расшифрованных букв или, если хочется совсем математически изощриться, расстояние между двумя перестановками, правильной и полученной из модели; но, честно говоря, в этом задании следить за численными метриками не так уж обязательно, будет и глазами всё видно."
   ]
  },
  {
   "cell_type": "code",
   "execution_count": 196,
   "id": "748e530c",
   "metadata": {},
   "outputs": [],
   "source": [
    "def get_bigrams(text):\n",
    "    return [text[i: i + 2] for i in range(len(text) - 1)]\n",
    "\n",
    "def decode(text, mapping):\n",
    "    return \"\".join([mapping[symbol] for symbol in text])"
   ]
  },
  {
   "cell_type": "code",
   "execution_count": 249,
   "id": "ee3033e6",
   "metadata": {},
   "outputs": [],
   "source": [
    "def get_bigramm_mapper(encoded, real):  \n",
    "    mapping_bigrams = {}\n",
    "    already_mapped = []\n",
    "    left_undecoded = []\n",
    "    encoded_count = Counter(encoded).most_common()\n",
    "    real_count = Counter(real).most_common()\n",
    "    encoded_bigrams_count = Counter(get_bigrams(encoded)).most_common()\n",
    "    real_bigrams_count = Counter(get_bigrams(real)).most_common()\n",
    "    for enc, _ in encoded_bigrams_count:\n",
    "        if enc[0] in mapping_bigrams and enc[1] in mapping_bigrams:\n",
    "            continue\n",
    "        elif enc[0] in mapping_bigrams:\n",
    "            mapped = mapping_bigrams[enc[0]]\n",
    "            ponential_symbols = [rea for rea, _ in real_bigrams_count if rea[0] == mapped and rea[1] not in already_mapped]\n",
    "            if len(ponential_symbols) >= 1:\n",
    "                mapping_bigrams[enc[1]] = ponential_symbols[0][1]\n",
    "                already_mapped.append(ponential_symbols[0][1])\n",
    "            else:\n",
    "                if enc[0] not in left_undecoded:\n",
    "                    left_undecoded.append(enc[1])\n",
    "        elif enc[1] in mapping_bigrams:\n",
    "            mapped = mapping_bigrams[enc[1]]\n",
    "            ponential_symbols = [rea for rea, _ in real_bigrams_count if rea[1] == mapped and rea[0] not in already_mapped]\n",
    "            if len(ponential_symbols) >= 1:\n",
    "                mapping_bigrams[enc[0]] = ponential_symbols[0][0]\n",
    "                already_mapped.append(ponential_symbols[0][0])\n",
    "            else:\n",
    "                if enc[0] not in left_undecoded:\n",
    "                    left_undecoded.append(enc[0])\n",
    "        else:\n",
    "            ponential_symbols = [rea for rea, _ in real_bigrams_count if rea[1] not in already_mapped and rea[0] not in already_mapped]\n",
    "            mapping_bigrams[enc[0]] = ponential_symbols[0][0]\n",
    "            mapping_bigrams[enc[1]] = ponential_symbols[0][1]\n",
    "            already_mapped.append(ponential_symbols[0][0])\n",
    "            already_mapped.append(ponential_symbols[0][1])\n",
    "    encoded_count = [symbol for symbol, count in encoded_count if symbol in left_undecoded]\n",
    "    for i, encoded in enumerate(encoded_count):\n",
    "        mapping_bigrams[encoded] = real_count[i][0]\n",
    "    \n",
    "    return mapping_bigrams"
   ]
  },
  {
   "cell_type": "code",
   "execution_count": 246,
   "id": "b67cbbbd",
   "metadata": {},
   "outputs": [],
   "source": [
    "test_text_dec1 = decode(test_text_enc1, get_bigramm_mapper(test_text_enc1, text))\n",
    "test_text_dec2 = decode(test_text_enc2, get_bigramm_mapper(test_text_enc2, text))\n",
    "test_text_dec3 = decode(test_text_enc3, get_bigramm_mapper(test_text_enc3, text))"
   ]
  },
  {
   "cell_type": "code",
   "execution_count": 219,
   "id": "f62b6357",
   "metadata": {},
   "outputs": [
    {
     "name": "stdout",
     "output_type": "stream",
     "text": [
      "chars num: 206, acc: 0.0\n",
      "chars num: 600, acc: 0.045\n",
      "chars num: 1702, acc: 0.2602820211515864\n"
     ]
    }
   ],
   "source": [
    "print(f\"chars num: {len(test_text1)}, acc: {accuracy(test_text1, test_text_dec1)}\")\n",
    "print(f\"chars num: {len(test_text2)}, acc: {accuracy(test_text2, test_text_dec2)}\")\n",
    "print(f\"chars num: {len(test_text3)}, acc: {accuracy(test_text3, test_text_dec3)}\")"
   ]
  },
  {
   "cell_type": "code",
   "execution_count": 250,
   "id": "a93d67bf",
   "metadata": {},
   "outputs": [
    {
     "data": {
      "text/plain": [
       "'я дто снхь пнгсля вто и але ку пкелтныно рочнт поглсаятьея е дткр л с нсгопн вто пгнбетлскт йоть зто акмибь побомаон m d р боетонсевко алйобкы с аосор горлан тоыетово овгораию пекйоыовкзневию глуглмотви бифк зныоснзневоо етглфаию выимкаи к екыи к вылсаон анмжслыжо боенын и але гнлыкур йибочнетснааово куомглчнакя s сгнря побтснгбкыо дти сжеовию ошнави ку етлтно к вакв ал сенй яужвлй ркгл поесяхнаажй лаан влгнакаоо рочао еоетлскть шныию мкмыкотнви я мну воынмлако алуслы лааи влгнакаи сныкзлофкр еошклыьажр горлаор со сено ркгосоо ыктнглтигн l пкелы торле рлаа уалзнакн горлал тоыетово еоетокт ан с детнткзневоо шнааоетк отбныьажй влгтка л с йибочнетснааоо улснгфнааоетк шныово ю сооаи к ркг тоыетоо алужслы ваквоо о пгофыор с алзлын ющэe вобл оа пгоекы гнблвтогл чигалыл гиеевко снетакв р а влтвосл с овылсынакк к блчн с омцясынакк ан алужслть нво еозканакн горлаор быя рная дто ознаь слчао к потори ознаь пгофи сле ом дтор эю э  тоыетоо ров мж омоеаослть есон опгнбнынакн члагл ваквл еежывоо ал внвныя вотогово оа сакрлтныьао пнгнзктжслы с вобж глмотж алб сооаоо к ркгор внвныь алужслы ваквоо дпкзневкн пгокуснбнакя есяулаажн е шныоетажр ркгор опгнбнынааово алгобл к опгнбнынааоо дпойк ваквл кык елромжталя дпопня блнт влгткаи алшкоалыьаово елроеоуалакя с аглсетснаажй иетояй енрноаоо чкуак с омхнетснаажй иеыоскяй еоетояакя сооаж к ркгл вигекс алф д м с нво потгнмаоетяй кевиеетслй омжзляй катнгнелй e лааи влгнакаи тоыетоо алужслы горлаор ку еосгнрнааоо чкуак с ющ s воби тоыьво нхн алзкаля глмоти оа восогкы а а етглйоси горла дтот крнаао горла вигекс алф д м пнгсжо с роно чкуак ознаь суяы рная ул бифи к я кр исынзна снеь эm me дпойл отнзнетснааоо сооаж поусоыкыл тоыетори куомглукть с сооан к'"
      ]
     },
     "execution_count": 250,
     "metadata": {},
     "output_type": "execute_result"
    }
   ],
   "source": [
    "test_text_dec3"
   ]
  },
  {
   "cell_type": "markdown",
   "id": "9ce2daa5",
   "metadata": {},
   "source": [
    "**Кажется стало хуже**"
   ]
  },
  {
   "cell_type": "markdown",
   "id": "44904705",
   "metadata": {},
   "source": [
    "## 3 МСМС\n",
    "Но и это ещё не всё: биграммы скорее всего тоже далеко не всегда работают. Основная часть задания — в том, как можно их улучшить:\n",
    "- предложите метод обучения перестановки символов в этом задании, основанный на MCMC-сэмплировании, но по-прежнему работающий на основе статистики биграмм;\n",
    "- реализуйте и протестируйте его, убедитесь, что результаты улучшились."
   ]
  },
  {
   "cell_type": "code",
   "execution_count": 263,
   "id": "e43b0a2e",
   "metadata": {},
   "outputs": [],
   "source": [
    "def swap(decoded_symbols):\n",
    "    new_decode = decoded_symbols.copy()\n",
    "    left_id, right_id = np.random.choice(range(0, len(decoded_symbols)), size=2, replace=False)\n",
    "    new_decode[left_id], new_decode[right_id] = new_decode[right_id], new_decode[left_id]\n",
    "    return new_decode\n",
    "\n",
    "def sum_of_probabilities(bigrams, mapa, log_likelihood, symbol_ids):\n",
    "    return sum([count * log_likelihood[symbol_ids[mapa[bigram[0]]], symbol_ids[mapa[bigram[1]]]] for bigram, count in bigrams]) if bigrams else 0\n",
    "\n",
    "def get_mcmc_mapper(encoded, real, n_iter):\n",
    "    n_epoches = 30\n",
    "    probs = []\n",
    "    new_maps = []\n",
    "    \n",
    "    encoded_bigrams = Counter(get_bigrams(encoded)).most_common()\n",
    "    decoded_bigrams = Counter(get_bigrams(real)).most_common()\n",
    "    encoded_chars = list(set(encoded))\n",
    "    decoded_chars = list(set(real))\n",
    "\n",
    "    likelihood = np.ones((len(decoded_chars), len(decoded_chars)))\n",
    "    symbol_ids = {symb: i for i, symb in enumerate(decoded_chars)}\n",
    "    for bigram, count in decoded_bigrams:\n",
    "        likelihood[symbol_ids[bigram[0]], symbol_ids[bigram[1]]] += count\n",
    "    likelihood /= likelihood.sum()\n",
    "    log_likelihood = np.log(likelihood)\n",
    "\n",
    "    for _ in range(n_epoches):\n",
    "        decoded_chars = list(set(real))\n",
    "        start_map = dict(zip(encoded_chars, decoded_chars))\n",
    "        prob = sum_of_probabilities(encoded_bigrams, start_map, log_likelihood, symbol_ids)\n",
    "\n",
    "        for i in range(n_iter):\n",
    "            new_decoded_chars = swap(decoded_chars)\n",
    "            new_map = dict(zip(encoded_chars, new_decoded_chars))\n",
    "            new_prob = sum_of_probabilities(encoded_bigrams, new_map, log_likelihood, symbol_ids)\n",
    "            if new_prob > prob:\n",
    "                decoded_chars = new_decoded_chars\n",
    "                prob = new_prob\n",
    "                start_map = new_map\n",
    "            else:\n",
    "                if np.exp(new_prob - prob) > np.random.rand():\n",
    "                    decoded_chars = new_decoded_chars\n",
    "                    prob = new_prob\n",
    "                    start_map = new_map\n",
    "\n",
    "        probs.append(prob)\n",
    "        new_maps.append(start_map)\n",
    "    \n",
    "    return new_maps[np.argmax(probs)]"
   ]
  },
  {
   "cell_type": "code",
   "execution_count": 257,
   "id": "08fc1fa8",
   "metadata": {},
   "outputs": [],
   "source": [
    "n_iter = 15000\n",
    "test_text_dec1 = decode_text(test_text_enc1, get_mcmc_mapper(test_text_enc1, text, n_iter))\n",
    "test_text_dec2 = decode_text(test_text_enc2, get_mcmc_mapper(test_text_enc2, text, n_iter))\n",
    "test_text_dec3 = decode_text(test_text_enc3, get_mcmc_mapper(test_text_enc3, text, n_iter))"
   ]
  },
  {
   "cell_type": "code",
   "execution_count": 258,
   "id": "9f750bfd",
   "metadata": {},
   "outputs": [
    {
     "name": "stdout",
     "output_type": "stream",
     "text": [
      "chars num: 206, acc: 0.49029126213592233\n",
      "chars num: 600, acc: 0.9866666666666667\n",
      "chars num: 1702, acc: 0.9406580493537016\n"
     ]
    }
   ],
   "source": [
    "print(f\"chars num: {len(test_text1)}, acc: {accuracy(test_text1, test_text_dec1)}\")\n",
    "print(f\"chars num: {len(test_text2)}, acc: {accuracy(test_text2, test_text_dec2)}\")\n",
    "print(f\"chars num: {len(test_text3)}, acc: {accuracy(test_text3, test_text_dec3)}\")"
   ]
  },
  {
   "cell_type": "code",
   "execution_count": 259,
   "id": "efa10a9a",
   "metadata": {},
   "outputs": [
    {
     "data": {
      "text/plain": [
       "'по своему это книга о вечных фенностях о любви о вере о семье о человеческом достоинстве лев толстойроман широкого дыхания часть перваяц лев толстой анна каренина роман широкого дыхания анна каренина поразила современников вседневностью содержания необычайная свобода раскованность повествования удивительно сочетались в этом романе с фельностью художественного взгляда автора на жизнь он выступал здесь как художник и мыслитель и назначение искусства видел не в том чтобы неоспоримо разрешить вопрос а в том чтобы заставить любить жизнь в бесчисленных никогда не истощимых всех ее проявлениях ge eii'"
      ]
     },
     "execution_count": 259,
     "metadata": {},
     "output_type": "execute_result"
    }
   ],
   "source": [
    "test_text_dec2"
   ]
  },
  {
   "cell_type": "markdown",
   "id": "c5b96ac8",
   "metadata": {},
   "source": [
    "## 4 Расшифровка сообщения"
   ]
  },
  {
   "cell_type": "code",
   "execution_count": 267,
   "id": "f24d84c1",
   "metadata": {},
   "outputs": [],
   "source": [
    "secrete_message_1 = '←⇠⇒↟↹↷⇊↹↷↟↤↟↨←↹↝⇛⇯↳⇴⇒⇈↝⇊↾↹↟⇒↟↹⇷⇛⇞↨↟↹↝⇛⇯↳⇴⇒⇈↝⇊↾↹↨←⇌⇠↨↹⇙↹⇸↨⇛↙⇛↹⇠⇛⇛↲⇆←↝↟↞↹⇌⇛↨⇛⇯⇊↾↹⇒←↙⇌⇛↹⇷⇯⇛⇞↟↨⇴↨⇈↹⇠⇌⇛⇯←←↹↷⇠←↙⇛↹↷⇊↹↷⇠←↹⇠↤←⇒⇴⇒↟↹⇷⇯⇴↷↟⇒⇈↝⇛↹↟↹⇷⇛⇒⇙⇞↟↨←↹↳⇴⇌⇠↟↳⇴⇒⇈↝⇊↾↹↲⇴⇒⇒↹⇰⇴↹⇷⇛⇠⇒←↤↝←←↹⇞←↨↷←⇯↨⇛←↹⇰⇴↤⇴↝↟←↹⇌⇙⇯⇠⇴↹↘⇛↨↞↹⇌⇛↝←⇞↝⇛↹↞↹↝↟⇞←↙⇛↹↝←↹⇛↲←⇆⇴⇏'\n",
    "secrete_message_2 = 'დჳჵჂႨშႼႨშჂხჂჲდႨსႹႭჾႣჵისႼჰႨჂჵჂႨႲႹႧჲჂႨსႹႭჾႣჵისႼჰႨჲდႩჳჲႨჇႨႠჲႹქႹႨჳႹႹჱჶდსჂႽႨႩႹჲႹႭႼჰႨჵდქႩႹႨႲႭႹႧჂჲႣჲიႨჳႩႹႭდდႨშჳდქႹႨშႼႨშჳდႨჳხდჵႣჵჂႨႲႭႣშჂჵისႹႨჂႨႲႹჵჇႧჂჲდႨჾႣႩჳჂჾႣჵისႼჰႨჱႣჵჵႨეႣႨႲႹჳჵდხსდდႨႧდჲშდႭჲႹდႨეႣხႣსჂდႨႩჇႭჳႣႨႾႹჲႽႨႩႹსდႧსႹႨႽႨსჂႧდქႹႨსდႨႹჱდჶႣნ'"
   ]
  },
  {
   "cell_type": "code",
   "execution_count": 268,
   "id": "bbd5e382",
   "metadata": {},
   "outputs": [
    {
     "name": "stdout",
     "output_type": "stream",
     "text": [
      "если вы вимите норжальный или подти норжальный текст у чтого сообщения который легко продитать скорее всего вы все смелали правильно и полудите жаксижальный балл за послемнее детвертое замание курса хотя конедно я нидего не обещаю\n"
     ]
    }
   ],
   "source": [
    "secrete_message_dec = decode_text(secrete_message_1, get_mcmc_mapper(secrete_message_1, text, n_iter=25000))\n",
    "print(secrete_message_dec)"
   ]
  },
  {
   "cell_type": "code",
   "execution_count": null,
   "id": "48bbab81",
   "metadata": {},
   "outputs": [],
   "source": []
  }
 ],
 "metadata": {
  "kernelspec": {
   "display_name": "Python 3 (ipykernel)",
   "language": "python",
   "name": "python3"
  },
  "language_info": {
   "codemirror_mode": {
    "name": "ipython",
    "version": 3
   },
   "file_extension": ".py",
   "mimetype": "text/x-python",
   "name": "python",
   "nbconvert_exporter": "python",
   "pygments_lexer": "ipython3",
   "version": "3.8.0"
  }
 },
 "nbformat": 4,
 "nbformat_minor": 5
}
