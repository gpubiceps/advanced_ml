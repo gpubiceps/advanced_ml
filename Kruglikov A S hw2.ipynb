{
 "cells": [
  {
   "cell_type": "markdown",
   "id": "87dbaf19",
   "metadata": {},
   "source": [
    "# Домашнее задание 2\n",
    "\n",
    "**Кругликов А. С.**"
   ]
  },
  {
   "cell_type": "markdown",
   "id": "2a7ca95a",
   "metadata": {},
   "source": [
    "## 1\n",
    "Прочитайте и проанализируйте данные, выберите турниры, в которых есть данные о составах команд и повопросных результатах (поле mask в results.pkl). Для унификации предлагаю:\n",
    "* взять в тренировочный набор турниры с dateStart из 2019 года; \n",
    "* в тестовый — турниры с dateStart из 2020 года."
   ]
  },
  {
   "cell_type": "code",
   "execution_count": 90,
   "id": "e3a27f91",
   "metadata": {},
   "outputs": [],
   "source": [
    "import time\n",
    "import pickle\n",
    "import pandas as pd\n",
    "import numpy as np\n",
    "import math as mt\n",
    "import torch\n",
    "from torch import nn\n",
    "from torch import optim\n",
    "from scipy.stats import kendalltau, spearmanr\n",
    "from sklearn.preprocessing import OneHotEncoder\n",
    "from tqdm import tqdm\n",
    "\n",
    "import warnings\n",
    "\n",
    "warnings.filterwarnings('ignore')"
   ]
  },
  {
   "cell_type": "code",
   "execution_count": 2,
   "id": "06726b76",
   "metadata": {},
   "outputs": [],
   "source": [
    "results = pickle.load(open('results.pkl', 'rb'))\n",
    "players = pickle.load(open('players.pkl', 'rb'))\n",
    "tournaments = pickle.load(open('tournaments.pkl', 'rb'))"
   ]
  },
  {
   "cell_type": "markdown",
   "id": "48a10dd8",
   "metadata": {},
   "source": [
    "Взглянем на данные"
   ]
  },
  {
   "cell_type": "code",
   "execution_count": 6,
   "id": "bc6c3bb2",
   "metadata": {
    "scrolled": true
   },
   "outputs": [
    {
     "data": {
      "text/plain": [
       "{'team': {'id': 242,\n",
       "  'name': 'Команда Азимова',\n",
       "  'town': {'id': 21, 'name': 'Баку'}},\n",
       " 'mask': None,\n",
       " 'current': {'name': 'Команда Азимова', 'town': {'id': 21, 'name': 'Баку'}},\n",
       " 'questionsTotal': 0,\n",
       " 'synchRequest': None,\n",
       " 'position': 1,\n",
       " 'controversials': [],\n",
       " 'flags': [],\n",
       " 'teamMembers': [{'flag': None,\n",
       "   'usedRating': 0,\n",
       "   'rating': 0,\n",
       "   'player': {'id': 476,\n",
       "    'name': 'Анар',\n",
       "    'patronymic': 'Беюкага оглы',\n",
       "    'surname': 'Азимов'}},\n",
       "  {'flag': None,\n",
       "   'usedRating': 0,\n",
       "   'rating': 0,\n",
       "   'player': {'id': 878,\n",
       "    'name': 'Фариз',\n",
       "    'patronymic': 'Наим оглы',\n",
       "    'surname': 'Аликишибеков'}},\n",
       "  {'flag': None,\n",
       "   'usedRating': 0,\n",
       "   'rating': 0,\n",
       "   'player': {'id': 1872,\n",
       "    'name': 'Аднан',\n",
       "    'patronymic': 'Фариз оглы',\n",
       "    'surname': 'Ахундов'}},\n",
       "  {'flag': None,\n",
       "   'usedRating': 0,\n",
       "   'rating': 0,\n",
       "   'player': {'id': 13721,\n",
       "    'name': 'Балаш',\n",
       "    'patronymic': 'Алекпер оглы',\n",
       "    'surname': 'Касумов'}},\n",
       "  {'flag': None,\n",
       "   'usedRating': 0,\n",
       "   'rating': 0,\n",
       "   'player': {'id': 22132,\n",
       "    'name': 'Анар',\n",
       "    'patronymic': 'Джафар оглы',\n",
       "    'surname': 'Наджафли'}},\n",
       "  {'flag': None,\n",
       "   'usedRating': 0,\n",
       "   'rating': 0,\n",
       "   'player': {'id': 22133,\n",
       "    'name': 'Рауф',\n",
       "    'patronymic': 'Джафар оглы',\n",
       "    'surname': 'Наджафли'}}]}"
      ]
     },
     "execution_count": 6,
     "metadata": {},
     "output_type": "execute_result"
    }
   ],
   "source": [
    "results[1][0]"
   ]
  },
  {
   "cell_type": "code",
   "execution_count": 16,
   "id": "5cd75923",
   "metadata": {},
   "outputs": [
    {
     "data": {
      "text/plain": [
       "{'id': 22799,\n",
       " 'name': 'Сергей',\n",
       " 'patronymic': 'Игоревич',\n",
       " 'surname': 'Николенко'}"
      ]
     },
     "execution_count": 16,
     "metadata": {},
     "output_type": "execute_result"
    }
   ],
   "source": [
    "players[22799]"
   ]
  },
  {
   "cell_type": "code",
   "execution_count": 39,
   "id": "847e505b",
   "metadata": {},
   "outputs": [
    {
     "data": {
      "text/plain": [
       "{'id': 5527,\n",
       " 'name': 'Открытый чемпионат Мальты',\n",
       " 'dateStart': '2019-04-06T15:00:00+03:00',\n",
       " 'dateEnd': '2019-04-06T20:00:00+03:00',\n",
       " 'type': {'id': 2, 'name': 'Обычный'},\n",
       " 'season': '/seasons/52',\n",
       " 'orgcommittee': [{'id': 25882,\n",
       "   'name': 'Максим',\n",
       "   'patronymic': 'Оскарович',\n",
       "   'surname': 'Поташев'}],\n",
       " 'synchData': None,\n",
       " 'questionQty': {'1': 15, '2': 15, '3': 15}}"
      ]
     },
     "execution_count": 39,
     "metadata": {},
     "output_type": "execute_result"
    }
   ],
   "source": [
    "tournaments[5527]"
   ]
  },
  {
   "cell_type": "markdown",
   "id": "a305dc90",
   "metadata": {},
   "source": [
    "### Подготовка данных"
   ]
  },
  {
   "cell_type": "code",
   "execution_count": 40,
   "id": "0abef9f7",
   "metadata": {},
   "outputs": [],
   "source": [
    "train_data_list =  []\n",
    "test_data_list = []\n",
    "for tournament, teams in results.items():\n",
    "    for team in teams:\n",
    "        tournament_year = tournaments[tournament][\"dateStart\"][:4]\n",
    "        if team.get(\"mask\", None) and tournament_year in ['2019', '2020']:\n",
    "            for member in team['teamMembers']:\n",
    "                add = {}\n",
    "                add['team_id'] = int(team['team']['id'])\n",
    "                add['team_member'] = int(member['player']['id'])\n",
    "                add['tournament_id'] = int(tournament)\n",
    "                add['avg_score'] = team['mask'].count('1') / len(team['mask'])\n",
    "                add = {\n",
    "                    \"tournament_id\": tournament,\n",
    "                    \"tournament_name\": tournaments.get(tournament).get(\"name\"),\n",
    "                    \"team_id\": team[\"team\"][\"id\"],\n",
    "                    \"team_name\": team[\"team\"][\"name\"],\n",
    "                    \"player_id\": member[\"player\"][\"id\"],\n",
    "                    \"player_name\": member[\"player\"][\"surname\"] + \" \" + member[\"player\"][\"name\"] + \" \" + member[\"player\"][\"patronymic\"],\n",
    "                    \"position\": team.get(\"position\", None),\n",
    "                }\n",
    "                if tournament_year == '2019':\n",
    "                    add[\"number_of_questions\"] = sum(tournaments.get(tournament).get(\"questionQty\").values())\n",
    "                    add[\"questions_mask\"] = team[\"mask\"]\n",
    "                    if add[\"number_of_questions\"] == len(add[\"questions_mask\"]):\n",
    "                        train_data_list.append(add)\n",
    "                elif tournament_year == '2020':\n",
    "                    test_data_list.append(add)"
   ]
  },
  {
   "cell_type": "code",
   "execution_count": 41,
   "id": "97f1c298",
   "metadata": {},
   "outputs": [],
   "source": [
    "test_data = pd.DataFrame(test_data_list)\n",
    "\n",
    "data_by_question = []\n",
    "for item in train_data_list:\n",
    "    for _, result in enumerate(item[\"questions_mask\"]):\n",
    "        if result in [\"0\", \"1\"]:\n",
    "            add = {\n",
    "                \"tournament_id\": item[\"tournament_id\"],\n",
    "                \"team_id\": item[\"team_id\"],\n",
    "                \"player_id\": item[\"player_id\"],\n",
    "                \"question\": str(item[\"tournament_id\"]) + \"_\" + str(_),\n",
    "                \"basic_label\": int(result),\n",
    "            }\n",
    "            data_by_question.append(add)"
   ]
  },
  {
   "cell_type": "markdown",
   "id": "e7383628",
   "metadata": {},
   "source": [
    "## 2\n",
    "Постройте baseline-модель на основе линейной или логистической регрессии, которая будет обучать рейтинг-лист игроков. Замечания и подсказки:\n",
    "* повопросные результаты — это фактически результаты броска монетки, и их предсказание скорее всего имеет отношение к бинарной классификации;\n",
    "* в разных турнирах вопросы совсем разного уровня сложности, поэтому модель должна это учитывать; скорее всего, модель должна будет явно обучать не только силу каждого игрока, но и сложность каждого вопроса;\n",
    "* для baseline-модели можно забыть о командах и считать, что повопросные результаты команды просто относятся к каждому из её игроков.\n",
    "___\n",
    "Предположим:\n",
    "* если команда не ответила на вопрос, то ни один игрок команды не ответил на вопрос\n",
    "* если команда ответила на вопрос, то каждый игрок ответил на вопрос\n",
    "\n",
    "Обучим модель, которая предскажет вероятность того, что некоторый игрок, ответил на некоторый вопрос."
   ]
  },
  {
   "cell_type": "code",
   "execution_count": 111,
   "id": "80fabb26",
   "metadata": {},
   "outputs": [],
   "source": [
    "df_by_question = pd.DataFrame(data_by_question).astype({\"tournament_id\": np.int32,\n",
    "                                                       \"team_id\": np.int32,\n",
    "                                                       \"player_id\": np.int32,\n",
    "                                                       \"basic_label\": np.uint8})\n",
    "\n",
    "encoder = OneHotEncoder()\n",
    "train_data = encoder.fit_transform(df_by_question[[\"player_id\", \"question\"]])\n",
    "x = torch.sparse.FloatTensor(\n",
    "    torch.LongTensor(np.vstack((train_data.tocoo().row, train_data.tocoo().col))),\n",
    "    torch.FloatTensor(train_data.data)\n",
    ")\n",
    "y = torch.FloatTensor(df_by_question[\"basic_label\"].values).reshape(-1, 1)"
   ]
  },
  {
   "cell_type": "code",
   "execution_count": 112,
   "id": "6cf7e1f5",
   "metadata": {},
   "outputs": [],
   "source": [
    "class LogisticRegression(nn.Module):\n",
    "    def __init__(self, n_features):\n",
    "        super().__init__()\n",
    "        self.lin = nn.Linear(n_features, 1)\n",
    "        self.sigmoid = nn.Sigmoid()\n",
    "        \n",
    "    def forward(self, x):\n",
    "        return self.sigmoid(self.lin(x))\n",
    "    \n",
    "def train_step(model, x, y, lr, n_iter):\n",
    "    model.lin.reset_parameters()\n",
    "    criteria = nn.BCELoss()\n",
    "    optimizer = optim.Adam(model.parameters(), lr)\n",
    "    for i in range(n_iter):\n",
    "        tstart = time.time()\n",
    "        optimizer.zero_grad()\n",
    "        loss = criteria(model(x), y)\n",
    "        loss.backward()\n",
    "        optimizer.step()\n",
    "        tstop = time.time()\n",
    "        time_part = int((tstop - tstart) * (n_iter - i))\n",
    "        print(f\"Эпоха {i}, до конца обучения {time_part // 60} минут {time_part % 60} секунд\")"
   ]
  },
  {
   "cell_type": "code",
   "execution_count": 114,
   "id": "1abc273c",
   "metadata": {
    "scrolled": true
   },
   "outputs": [
    {
     "name": "stdout",
     "output_type": "stream",
     "text": [
      "Эпоха 0, до конца обучения 4 минут 31 секунд\n",
      "Эпоха 1, до конца обучения 3 минут 36 секунд\n",
      "Эпоха 2, до конца обучения 3 минут 32 секунд\n",
      "Эпоха 3, до конца обучения 3 минут 25 секунд\n",
      "Эпоха 4, до конца обучения 3 минут 23 секунд\n",
      "Эпоха 5, до конца обучения 3 минут 18 секунд\n",
      "Эпоха 6, до конца обучения 3 минут 22 секунд\n",
      "Эпоха 7, до конца обучения 3 минут 21 секунд\n",
      "Эпоха 8, до конца обучения 3 минут 13 секунд\n",
      "Эпоха 9, до конца обучения 3 минут 13 секунд\n",
      "Эпоха 10, до конца обучения 3 минут 15 секунд\n",
      "Эпоха 11, до конца обучения 3 минут 8 секунд\n",
      "Эпоха 12, до конца обучения 3 минут 11 секунд\n",
      "Эпоха 13, до конца обучения 3 минут 0 секунд\n",
      "Эпоха 14, до конца обучения 3 минут 3 секунд\n",
      "Эпоха 15, до конца обучения 2 минут 59 секунд\n",
      "Эпоха 16, до конца обучения 3 минут 13 секунд\n",
      "Эпоха 17, до конца обучения 2 минут 57 секунд\n",
      "Эпоха 18, до конца обучения 2 минут 59 секунд\n",
      "Эпоха 19, до конца обучения 2 минут 51 секунд\n",
      "Эпоха 20, до конца обучения 2 минут 47 секунд\n",
      "Эпоха 21, до конца обучения 2 минут 44 секунд\n",
      "Эпоха 22, до конца обучения 2 минут 43 секунд\n",
      "Эпоха 23, до конца обучения 2 минут 46 секунд\n",
      "Эпоха 24, до конца обучения 2 минут 40 секунд\n",
      "Эпоха 25, до конца обучения 2 минут 37 секунд\n",
      "Эпоха 26, до конца обучения 2 минут 37 секунд\n",
      "Эпоха 27, до конца обучения 2 минут 33 секунд\n",
      "Эпоха 28, до конца обучения 2 минут 29 секунд\n",
      "Эпоха 29, до конца обучения 2 минут 28 секунд\n",
      "Эпоха 30, до конца обучения 2 минут 26 секунд\n",
      "Эпоха 31, до конца обучения 2 минут 24 секунд\n",
      "Эпоха 32, до конца обучения 2 минут 24 секунд\n",
      "Эпоха 33, до конца обучения 2 минут 19 секунд\n",
      "Эпоха 34, до конца обучения 2 минут 20 секунд\n",
      "Эпоха 35, до конца обучения 2 минут 19 секунд\n",
      "Эпоха 36, до конца обучения 2 минут 17 секунд\n",
      "Эпоха 37, до конца обучения 2 минут 17 секунд\n",
      "Эпоха 38, до конца обучения 2 минут 10 секунд\n",
      "Эпоха 39, до конца обучения 2 минут 8 секунд\n",
      "Эпоха 40, до конца обучения 2 минут 5 секунд\n",
      "Эпоха 41, до конца обучения 2 минут 4 секунд\n",
      "Эпоха 42, до конца обучения 2 минут 3 секунд\n",
      "Эпоха 43, до конца обучения 2 минут 3 секунд\n",
      "Эпоха 44, до конца обучения 1 минут 59 секунд\n",
      "Эпоха 45, до конца обучения 1 минут 56 секунд\n",
      "Эпоха 46, до конца обучения 1 минут 54 секунд\n",
      "Эпоха 47, до конца обучения 1 минут 52 секунд\n",
      "Эпоха 48, до конца обучения 1 минут 52 секунд\n",
      "Эпоха 49, до конца обучения 1 минут 50 секунд\n",
      "Эпоха 50, до конца обучения 1 минут 50 секунд\n",
      "Эпоха 51, до конца обучения 1 минут 47 секунд\n",
      "Эпоха 52, до конца обучения 1 минут 42 секунд\n",
      "Эпоха 53, до конца обучения 1 минут 42 секунд\n",
      "Эпоха 54, до конца обучения 1 минут 39 секунд\n",
      "Эпоха 55, до конца обучения 1 минут 37 секунд\n",
      "Эпоха 56, до конца обучения 1 минут 36 секунд\n",
      "Эпоха 57, до конца обучения 1 минут 31 секунд\n",
      "Эпоха 58, до конца обучения 1 минут 29 секунд\n",
      "Эпоха 59, до конца обучения 1 минут 26 секунд\n",
      "Эпоха 60, до конца обучения 1 минут 26 секунд\n",
      "Эпоха 61, до конца обучения 1 минут 25 секунд\n",
      "Эпоха 62, до конца обучения 1 минут 21 секунд\n",
      "Эпоха 63, до конца обучения 1 минут 19 секунд\n",
      "Эпоха 64, до конца обучения 1 минут 15 секунд\n",
      "Эпоха 65, до конца обучения 1 минут 13 секунд\n",
      "Эпоха 66, до конца обучения 1 минут 10 секунд\n",
      "Эпоха 67, до конца обучения 1 минут 9 секунд\n",
      "Эпоха 68, до конца обучения 1 минут 6 секунд\n",
      "Эпоха 69, до конца обучения 1 минут 4 секунд\n",
      "Эпоха 70, до конца обучения 1 минут 2 секунд\n",
      "Эпоха 71, до конца обучения 1 минут 0 секунд\n",
      "Эпоха 72, до конца обучения 1 минут 1 секунд\n",
      "Эпоха 73, до конца обучения 0 минут 56 секунд\n",
      "Эпоха 74, до конца обучения 0 минут 54 секунд\n",
      "Эпоха 75, до конца обучения 0 минут 52 секунд\n",
      "Эпоха 76, до конца обучения 0 минут 50 секунд\n",
      "Эпоха 77, до конца обучения 0 минут 48 секунд\n",
      "Эпоха 78, до конца обучения 0 минут 45 секунд\n",
      "Эпоха 79, до конца обучения 0 минут 44 секунд\n",
      "Эпоха 80, до конца обучения 0 минут 41 секунд\n",
      "Эпоха 81, до конца обучения 0 минут 39 секунд\n",
      "Эпоха 82, до конца обучения 0 минут 38 секунд\n",
      "Эпоха 83, до конца обучения 0 минут 36 секунд\n",
      "Эпоха 84, до конца обучения 0 минут 33 секунд\n",
      "Эпоха 85, до конца обучения 0 минут 31 секунд\n",
      "Эпоха 86, до конца обучения 0 минут 29 секунд\n",
      "Эпоха 87, до конца обучения 0 минут 27 секунд\n",
      "Эпоха 88, до конца обучения 0 минут 25 секунд\n",
      "Эпоха 89, до конца обучения 0 минут 23 секунд\n",
      "Эпоха 90, до конца обучения 0 минут 21 секунд\n",
      "Эпоха 91, до конца обучения 0 минут 19 секунд\n",
      "Эпоха 92, до конца обучения 0 минут 16 секунд\n",
      "Эпоха 93, до конца обучения 0 минут 14 секунд\n",
      "Эпоха 94, до конца обучения 0 минут 13 секунд\n",
      "Эпоха 95, до конца обучения 0 минут 10 секунд\n",
      "Эпоха 96, до конца обучения 0 минут 8 секунд\n",
      "Эпоха 97, до конца обучения 0 минут 6 секунд\n",
      "Эпоха 98, до конца обучения 0 минут 4 секунд\n",
      "Эпоха 99, до конца обучения 0 минут 2 секунд\n"
     ]
    }
   ],
   "source": [
    "n_features = x.shape[1]\n",
    "model = LogisticRegression(n_features)\n",
    "train_step(model, x, y, lr=1, n_iter=100)"
   ]
  },
  {
   "cell_type": "markdown",
   "id": "545c810c",
   "metadata": {},
   "source": [
    "## 3\n",
    "Качество рейтинг-системы оценивается качеством предсказаний результатов турниров. Но сами повопросные результаты наши модели предсказывать вряд ли смогут, ведь неизвестно, насколько сложными окажутся вопросы в будущих турнирах; да и не нужны эти предсказания сами по себе. Поэтому:\n",
    "* предложите способ предсказать результаты нового турнира с известными составами, но неизвестными вопросами, в виде ранжирования команд;\n",
    "* в качестве метрики качества на тестовом наборе давайте считать ранговые корреляции Спирмена и Кендалла (их можно взять в пакете scipy) между реальным ранжированием в результатах турнира и предсказанным моделью, усреднённые по тестовому множеству турниров.\n",
    "\n",
    "Для самопроверки: у меня средняя корреляция Спирмена на тестовом множестве 2020 года во всех моделях, включая baselines, получалась порядка 0.7-0.8, а корреляция Кендалла — порядка 0.5-0.6. Если у вас корреляции вышли за 0.9 или, наоборот, упали ниже 0.3, скорее всего где-то баг."
   ]
  },
  {
   "cell_type": "markdown",
   "id": "84330eb9",
   "metadata": {},
   "source": [
    "Если мы хотим сравнить наши результаты с тестовым набором данных, мы можем рассчитать силу команды. Затем мы можем ранжировать их и сравнивать с реальными позициями в тестовом наборе.\n",
    "Силу команды можно представить как вероятность того, что команда ответит на средний вопрос. Поскольку разные игроки в команде отвечают на вопрос независимо друг от друга, мы можем определить сильные стороны команды как:\n",
    "\n",
    "$${P_{team_i} = 1 - \\prod_{j = 1}^{N}(1 - \\sigma(p_{ij} + q_{avg} + b))}$$\n",
    "- $p_{ij}$ - сила j-го игрока в команде $i$ размера $N$\n",
    "- $q_{avg}$ - средний вопрос\n",
    "- $b$ - смещение"
   ]
  },
  {
   "cell_type": "code",
   "execution_count": 115,
   "id": "378e2b1d",
   "metadata": {},
   "outputs": [],
   "source": [
    "weights = [model.lin.weight.data[0].numpy(), model.lin.bias.data[0].numpy()]"
   ]
  },
  {
   "cell_type": "code",
   "execution_count": 116,
   "id": "ea8f2cbe",
   "metadata": {},
   "outputs": [],
   "source": [
    "def corr(data, encoder, parameters):\n",
    "    player_weights = {}\n",
    "    player_sum = 0\n",
    "    player_count = 0\n",
    "    question_sum = 0\n",
    "    question_count = 0\n",
    "    for i, feature in enumerate(encoder.get_feature_names()):\n",
    "        if feature[:3] == \"x0_\":\n",
    "            player_weights[int(feature[3:])] = parameters[0][i]\n",
    "            player_sum += parameters[0][i]\n",
    "            player_count += 1\n",
    "        else:\n",
    "            question_sum += parameters[0][i]\n",
    "            question_count += 1\n",
    "    \n",
    "    data[\"player_weights\"] = data[\"player_id\"].apply(lambda x: player_weights.get(x))\n",
    "    data[\"player_weights\"].fillna(player_sum / player_count, inplace=True)\n",
    "    data[\"player_probability\"] = data[\"player_weights\"].apply(lambda x: 1 / (1 + np.exp( - (x + question_sum / question_count + parameters[1]))))\n",
    "    probas = data.groupby([\"tournament_id\", \"team_id\"])[\"player_probability\"].apply(lambda x: 1 - np.prod(1 - x))\n",
    "    position = data.groupby([\"tournament_id\", \"team_id\"])[\"position\"].first()\n",
    "    group_data = pd.concat([probas, position], axis=1)\n",
    "    group_data.sort_values([\"tournament_id\", \"player_probability\"], ascending=[True, True], inplace=True)\n",
    "    spearman = group_data.groupby(\"tournament_id\").apply(lambda x: - spearmanr(x[\"position\"], x[\"player_probability\"]).correlation).mean()\n",
    "    kendall = group_data.groupby(\"tournament_id\").apply(lambda x: - kendalltau(x[\"position\"], x[\"player_probability\"]).correlation).mean()\n",
    "    return spearman, kendall"
   ]
  },
  {
   "cell_type": "code",
   "execution_count": 117,
   "id": "fbd24490",
   "metadata": {},
   "outputs": [
    {
     "name": "stdout",
     "output_type": "stream",
     "text": [
      "Корреляция Спирмена:  0.7859253342024026\n",
      "Корреляция Кендалла:  0.6290059220969266\n"
     ]
    }
   ],
   "source": [
    "spearman, kendall = corr(test_data, encoder, weights)\n",
    "\n",
    "print('Корреляция Спирмена: ', spearman)\n",
    "print('Корреляция Кендалла: ', kendall)"
   ]
  },
  {
   "cell_type": "markdown",
   "id": "c6c9db80",
   "metadata": {},
   "source": [
    "По самопроверке проходит"
   ]
  },
  {
   "cell_type": "markdown",
   "id": "1035f477",
   "metadata": {},
   "source": [
    "## 4\n",
    "Теперь главное: ЧГК — это всё-таки командная игра. Поэтому:\n",
    "\n",
    "* предложите способ учитывать то, что на вопрос отвечают сразу несколько игроков; скорее всего, понадобятся скрытые переменные; не стесняйтесь делать упрощающие предположения, но теперь переменные “игрок X ответил на вопрос Y” при условии данных должны стать зависимыми для игроков одной и той же команды;\n",
    "* разработайте EM-схему для обучения этой модели, реализуйте её в коде;\n",
    "* обучите несколько итераций, убедитесь, что целевые метрики со временем растут (скорее всего, ненамного, но расти должны), выберите лучшую модель, используя целевые метрики."
   ]
  },
  {
   "cell_type": "markdown",
   "id": "16356d67",
   "metadata": {},
   "source": [
    "Пусть $t_{i}$ ответ команды на $i$-й вопрос, $z_{ij}$ - скрытая переменная - ответ $j$-го игрока в $i$-й команде\n",
    "\n",
    "\n",
    "${p(t = 1|z = 1) = 1}$\n",
    "\n",
    "Тогда, на Е-шаге хотим:\n",
    "${p(z_{ij} = 1|t_{i} = y)}$, где y - ответ.\n",
    "\n",
    "Так как ${p(z_{ij} = 1|t_{i} = 0) = 0}$ нам нужно только найти:\n",
    "$${p(z_{ij} = 1|t_{i} = 1) = \\frac{p(t_{i} = 1|z_{ij} = 1)p(z_{ij} = 1)}{p(t_{i} = 1)}}$$\n",
    "\n",
    "Используя предсказания М-шага:\n",
    "$${p(z_{ij} = 1|t_{i} = 1) = \\frac{\\sigma(p_i + q_j + b)}{1 - \\prod_{k=1}^{N}(1 - \\sigma(p_{ik} + q_j + b))}}$$"
   ]
  },
  {
   "cell_type": "code",
   "execution_count": 118,
   "id": "c3d35325",
   "metadata": {},
   "outputs": [],
   "source": [
    "def e_step(data, predicts):\n",
    "    data[\"label\"] = predicts\n",
    "    data.loc[data[\"basic_label\"] == 0, \"label\"] = 0\n",
    "    data.loc[data[\"basic_label\"] == 1, \"label\"] = data.loc[data[\"basic_label\"] == 1, \"label\"] / data[data[\"basic_label\"] == 1].groupby([\"team_id\", \"question\"])[\"label\"].transform(lambda x: 1 - np.prod(1 - x.values))\n",
    "    return data\n",
    "\n",
    "\n",
    "def m_step(model, x, y, lr=0.001, n_iter=10):\n",
    "    model.lin.reset_parameters()\n",
    "    criteria = nn.BCELoss()\n",
    "    optimizer = optim.Adam(model.parameters(), lr)\n",
    "    for i in range(n_iter):\n",
    "        optimizer.zero_grad()\n",
    "        output = model(x)\n",
    "        loss = criteria(output, y)\n",
    "        loss.backward()\n",
    "        optimizer.step()"
   ]
  },
  {
   "cell_type": "code",
   "execution_count": 119,
   "id": "02e8ce89",
   "metadata": {},
   "outputs": [
    {
     "name": "stdout",
     "output_type": "stream",
     "text": [
      "Шаг 1\n",
      "spearman 0.7939539774763885, kendall 0.6383474097560201\n",
      "Шаг 2\n",
      "spearman 0.7939497779169516, kendall 0.6380750059147122\n",
      "Шаг 3\n",
      "spearman 0.7968207513546135, kendall 0.6403902431428277\n",
      "Шаг 4\n",
      "spearman 0.7972287419520179, kendall 0.6411298928341518\n",
      "Шаг 5\n",
      "spearman 0.7998719493922131, kendall 0.6448814253865159\n",
      "Шаг 6\n",
      "spearman 0.8014189185611772, kendall 0.6466026940488063\n"
     ]
    }
   ],
   "source": [
    "predicts = model(x).detach().numpy().flatten()\n",
    "question_answer_data__ = e_step(df_by_question.copy(), predicts)\n",
    "y = torch.FloatTensor(question_answer_data__[\"label\"].values).view(-1, 1)\n",
    "m_step(model, x, y, lr=1, n_iter=100)\n",
    "weights = [model.lin.weight.data[0].numpy(), model.lin.bias.data[0].numpy()]\n",
    "spearman, kendall = corr(test_data, encoder, weights)\n",
    "print(\"Шаг 1\")\n",
    "print(f\"spearman {spearman}, kendall {kendall}\")\n",
    "\n",
    "predicts = model(x).detach().numpy().flatten()\n",
    "for i in range(1, 6):\n",
    "    question_answer_data__ = e_step(question_answer_data__, predicts)\n",
    "    y = torch.FloatTensor(question_answer_data__[\"label\"].values).view(-1, 1)\n",
    "    m_step(model, x, y, lr=1, n_iter=100)\n",
    "    predicts = model(x).detach().numpy().flatten()\n",
    "    weights = [model.lin.weight.data[0].numpy(), model.lin.bias.data[0].numpy()]\n",
    "    spearman, kendall = corr(test_data, encoder, weights)\n",
    "    print(f\"Шаг {i + 1}\")\n",
    "    print(f\"spearman {spearman}, kendall {kendall}\")"
   ]
  },
  {
   "cell_type": "markdown",
   "id": "014c1460",
   "metadata": {},
   "source": [
    "## 5\n",
    "А что там с вопросами? Постройте “рейтинг-лист” турниров по сложности вопросов. Соответствует ли он интуиции (например, на чемпионате мира в целом должны быть сложные вопросы, а на турнирах для школьников — простые)? Если будет интересно: постройте топ сложных и простых вопросов со ссылками на конкретные записи в базе вопросов ЧГК (это чисто техническое дело, тут никакого ML нету)."
   ]
  },
  {
   "cell_type": "code",
   "execution_count": 120,
   "id": "b64be7ff",
   "metadata": {},
   "outputs": [],
   "source": [
    "question_weights = {}\n",
    "for i, feature in enumerate(encoder.get_feature_names()):\n",
    "    if feature[:3] == \"x1_\":\n",
    "        question_weights[feature[3:]] = weights[0][i]\n",
    "        \n",
    "tournament_weights = question_answer_data__.groupby(\"tournament_id\")[\"question\"].apply(lambda x: np.mean([question_weights[q] for q in x])).sort_values().reset_index()[\"tournament_id\"].apply(lambda x: tournaments[x][\"name\"])"
   ]
  },
  {
   "cell_type": "code",
   "execution_count": 121,
   "id": "9cb1af2d",
   "metadata": {},
   "outputs": [
    {
     "data": {
      "text/plain": [
       "0    Чемпионат Санкт-Петербурга. Первая лига\n",
       "1                     Чемпионат Таджикистана\n",
       "2                                Угрюмый Ёрш\n",
       "3     Зеркало мемориала памяти Михаила Басса\n",
       "4                         Воображаемый музей\n",
       "5                 Синхрон высшей лиги Москвы\n",
       "6               Первенство правого полушария\n",
       "7            Чемпионат Мира. Этап 2 Группа С\n",
       "8           Чемпионат Мира. Этап 2. Группа В\n",
       "9              Мемориал памяти Михаила Басса\n",
       "Name: tournament_id, dtype: object"
      ]
     },
     "execution_count": 121,
     "metadata": {},
     "output_type": "execute_result"
    }
   ],
   "source": [
    "tournament_weights.head(10)"
   ]
  },
  {
   "cell_type": "code",
   "execution_count": 122,
   "id": "8e7edce3",
   "metadata": {},
   "outputs": [
    {
     "data": {
      "text/plain": [
       "665            (а)Синхрон-lite. Лига старта. Эпизод V\n",
       "666                             Школьная лига. I тур.\n",
       "667                           Школьная лига. III тур.\n",
       "668                                  Кубок Закарпатья\n",
       "669                    Гран-при Славянки. Общий зачёт\n",
       "670    Студенческий чемпионат Калининградской области\n",
       "671                                  One ring - async\n",
       "672                               Синхрон Лиги Разума\n",
       "673                 Шестой киевский марафон. Асинхрон\n",
       "674                            Асинхрон по South Park\n",
       "Name: tournament_id, dtype: object"
      ]
     },
     "execution_count": 122,
     "metadata": {},
     "output_type": "execute_result"
    }
   ],
   "source": [
    "tournament_weights.tail(10)"
   ]
  },
  {
   "cell_type": "code",
   "execution_count": null,
   "id": "f69946cf",
   "metadata": {},
   "outputs": [],
   "source": []
  }
 ],
 "metadata": {
  "kernelspec": {
   "display_name": "Python 3 (ipykernel)",
   "language": "python",
   "name": "python3"
  },
  "language_info": {
   "codemirror_mode": {
    "name": "ipython",
    "version": 3
   },
   "file_extension": ".py",
   "mimetype": "text/x-python",
   "name": "python",
   "nbconvert_exporter": "python",
   "pygments_lexer": "ipython3",
   "version": "3.8.0"
  }
 },
 "nbformat": 4,
 "nbformat_minor": 5
}
